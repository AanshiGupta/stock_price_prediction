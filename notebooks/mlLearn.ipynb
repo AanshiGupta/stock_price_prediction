{
 "cells": [
  {
   "cell_type": "code",
   "execution_count": 1,
   "metadata": {},
   "outputs": [
    {
     "name": "stderr",
     "output_type": "stream",
     "text": [
      "/home/anupam/anaconda3/lib/python3.6/site-packages/sklearn/cross_validation.py:41: DeprecationWarning: This module was deprecated in version 0.18 in favor of the model_selection module into which all the refactored classes and functions are moved. Also note that the interface of the new CV iterators are different from that of this module. This module will be removed in 0.20.\n",
      "  \"This module will be removed in 0.20.\", DeprecationWarning)\n"
     ]
    }
   ],
   "source": [
    "import pandas as pd\n",
    "import quandl\n",
    "import math\n",
    "import numpy as np\n",
    "from sklearn import preprocessing, cross_validation, svm\n",
    "from sklearn.linear_model import LinearRegression"
   ]
  },
  {
   "cell_type": "code",
   "execution_count": 2,
   "metadata": {},
   "outputs": [
    {
     "data": {
      "text/plain": [
       "Open              1063.90\n",
       "High              1064.54\n",
       "Low                997.62\n",
       "Close             1006.94\n",
       "Volume         2940957.00\n",
       "Ex-Dividend          0.00\n",
       "Split Ratio          1.00\n",
       "Adj. Open         1063.90\n",
       "Adj. High         1064.54\n",
       "Adj. Low           997.62\n",
       "Adj. Close        1006.94\n",
       "Adj. Volume    2940957.00\n",
       "Name: 2018-03-27 00:00:00, dtype: float64"
      ]
     },
     "execution_count": 2,
     "metadata": {},
     "output_type": "execute_result"
    }
   ],
   "source": [
    "df = quandl.get('WIKI/GOOGL')\n",
    "#print(df)\n",
    "df.iloc[-1]\n",
    "# df = pd.read_csv('googleStocks.csv',header=0)\n",
    "# df = df.set_index('Date')\n",
    "# df.head()"
   ]
  },
  {
   "cell_type": "code",
   "execution_count": 3,
   "metadata": {},
   "outputs": [],
   "source": [
    "# df = pd.read_csv('googleStocks.csv',header=0)\n",
    "# df = df.set_index('Date')\n",
    "# df.iloc[-1]"
   ]
  },
  {
   "cell_type": "code",
   "execution_count": 4,
   "metadata": {},
   "outputs": [
    {
     "data": {
      "text/html": [
       "<div>\n",
       "<style scoped>\n",
       "    .dataframe tbody tr th:only-of-type {\n",
       "        vertical-align: middle;\n",
       "    }\n",
       "\n",
       "    .dataframe tbody tr th {\n",
       "        vertical-align: top;\n",
       "    }\n",
       "\n",
       "    .dataframe thead th {\n",
       "        text-align: right;\n",
       "    }\n",
       "</style>\n",
       "<table border=\"1\" class=\"dataframe\">\n",
       "  <thead>\n",
       "    <tr style=\"text-align: right;\">\n",
       "      <th></th>\n",
       "      <th>Date</th>\n",
       "      <th>Open</th>\n",
       "      <th>High</th>\n",
       "      <th>Low</th>\n",
       "      <th>Close</th>\n",
       "      <th>Volume</th>\n",
       "      <th>Ex-Dividend</th>\n",
       "      <th>Split Ratio</th>\n",
       "      <th>Adj. Open</th>\n",
       "      <th>Adj. High</th>\n",
       "      <th>Adj. Low</th>\n",
       "      <th>Adj. Close</th>\n",
       "      <th>Adj. Volume</th>\n",
       "    </tr>\n",
       "  </thead>\n",
       "  <tbody>\n",
       "    <tr>\n",
       "      <th>0</th>\n",
       "      <td>2004-08-19 00:00:00</td>\n",
       "      <td>100.01</td>\n",
       "      <td>104.06</td>\n",
       "      <td>95.96</td>\n",
       "      <td>100.335</td>\n",
       "      <td>44659000.0</td>\n",
       "      <td>0.0</td>\n",
       "      <td>1.0</td>\n",
       "      <td>50.159839</td>\n",
       "      <td>52.191109</td>\n",
       "      <td>48.128568</td>\n",
       "      <td>50.322842</td>\n",
       "      <td>44659000.0</td>\n",
       "    </tr>\n",
       "    <tr>\n",
       "      <th>1</th>\n",
       "      <td>2004-08-20 00:00:00</td>\n",
       "      <td>101.01</td>\n",
       "      <td>109.08</td>\n",
       "      <td>100.50</td>\n",
       "      <td>108.310</td>\n",
       "      <td>22834300.0</td>\n",
       "      <td>0.0</td>\n",
       "      <td>1.0</td>\n",
       "      <td>50.661387</td>\n",
       "      <td>54.708881</td>\n",
       "      <td>50.405597</td>\n",
       "      <td>54.322689</td>\n",
       "      <td>22834300.0</td>\n",
       "    </tr>\n",
       "    <tr>\n",
       "      <th>2</th>\n",
       "      <td>2004-08-23 00:00:00</td>\n",
       "      <td>110.76</td>\n",
       "      <td>113.48</td>\n",
       "      <td>109.05</td>\n",
       "      <td>109.400</td>\n",
       "      <td>18256100.0</td>\n",
       "      <td>0.0</td>\n",
       "      <td>1.0</td>\n",
       "      <td>55.551482</td>\n",
       "      <td>56.915693</td>\n",
       "      <td>54.693835</td>\n",
       "      <td>54.869377</td>\n",
       "      <td>18256100.0</td>\n",
       "    </tr>\n",
       "    <tr>\n",
       "      <th>3</th>\n",
       "      <td>2004-08-24 00:00:00</td>\n",
       "      <td>111.24</td>\n",
       "      <td>111.60</td>\n",
       "      <td>103.57</td>\n",
       "      <td>104.870</td>\n",
       "      <td>15247300.0</td>\n",
       "      <td>0.0</td>\n",
       "      <td>1.0</td>\n",
       "      <td>55.792225</td>\n",
       "      <td>55.972783</td>\n",
       "      <td>51.945350</td>\n",
       "      <td>52.597363</td>\n",
       "      <td>15247300.0</td>\n",
       "    </tr>\n",
       "    <tr>\n",
       "      <th>4</th>\n",
       "      <td>2004-08-25 00:00:00</td>\n",
       "      <td>104.76</td>\n",
       "      <td>108.00</td>\n",
       "      <td>103.88</td>\n",
       "      <td>106.000</td>\n",
       "      <td>9188600.0</td>\n",
       "      <td>0.0</td>\n",
       "      <td>1.0</td>\n",
       "      <td>52.542193</td>\n",
       "      <td>54.167209</td>\n",
       "      <td>52.100830</td>\n",
       "      <td>53.164113</td>\n",
       "      <td>9188600.0</td>\n",
       "    </tr>\n",
       "  </tbody>\n",
       "</table>\n",
       "</div>"
      ],
      "text/plain": [
       "                  Date    Open    High     Low    Close      Volume  \\\n",
       "0  2004-08-19 00:00:00  100.01  104.06   95.96  100.335  44659000.0   \n",
       "1  2004-08-20 00:00:00  101.01  109.08  100.50  108.310  22834300.0   \n",
       "2  2004-08-23 00:00:00  110.76  113.48  109.05  109.400  18256100.0   \n",
       "3  2004-08-24 00:00:00  111.24  111.60  103.57  104.870  15247300.0   \n",
       "4  2004-08-25 00:00:00  104.76  108.00  103.88  106.000   9188600.0   \n",
       "\n",
       "   Ex-Dividend  Split Ratio  Adj. Open  Adj. High   Adj. Low  Adj. Close  \\\n",
       "0          0.0          1.0  50.159839  52.191109  48.128568   50.322842   \n",
       "1          0.0          1.0  50.661387  54.708881  50.405597   54.322689   \n",
       "2          0.0          1.0  55.551482  56.915693  54.693835   54.869377   \n",
       "3          0.0          1.0  55.792225  55.972783  51.945350   52.597363   \n",
       "4          0.0          1.0  52.542193  54.167209  52.100830   53.164113   \n",
       "\n",
       "   Adj. Volume  \n",
       "0   44659000.0  \n",
       "1   22834300.0  \n",
       "2   18256100.0  \n",
       "3   15247300.0  \n",
       "4    9188600.0  "
      ]
     },
     "execution_count": 4,
     "metadata": {},
     "output_type": "execute_result"
    }
   ],
   "source": [
    "# df.to_csv(\"googleStocks.csv\", sep=',', encoding='utf-8', date_format='%Y-%m-%d %H:%M:%S')\n",
    "df2 = pd.read_csv('googleStocks.csv',header=0)\n",
    "#df2 = df.set_index('Date')\n",
    "df2.head()"
   ]
  },
  {
   "cell_type": "code",
   "execution_count": 5,
   "metadata": {},
   "outputs": [
    {
     "name": "stdout",
     "output_type": "stream",
     "text": [
      "              Adj. Open    Adj. High     Adj. Low   Adj. Close  Adj. Volume\n",
      "Date                                                                       \n",
      "2004-08-19    50.159839    52.191109    48.128568    50.322842   44659000.0\n",
      "2004-08-20    50.661387    54.708881    50.405597    54.322689   22834300.0\n",
      "2004-08-23    55.551482    56.915693    54.693835    54.869377   18256100.0\n",
      "2004-08-24    55.792225    55.972783    51.945350    52.597363   15247300.0\n",
      "2004-08-25    52.542193    54.167209    52.100830    53.164113    9188600.0\n",
      "2004-08-26    52.637487    54.142132    52.492038    54.122070    7094800.0\n",
      "2004-08-27    54.217364    54.478169    53.008633    53.239345    6211700.0\n",
      "2004-08-30    52.802998    52.908323    51.162935    51.162935    5196700.0\n",
      "2004-08-31    51.318415    52.015567    51.238167    51.343492    4917800.0\n",
      "2004-09-01    51.509003    51.644421    49.989312    50.280210    9138200.0\n",
      "2004-09-02    49.698414    51.343492    49.623182    50.912161   15118600.0\n",
      "2004-09-03    50.631294    51.027517    49.813770    50.159839    5152400.0\n",
      "2004-09-07    50.661387    51.157920    49.959219    50.947269    5847500.0\n",
      "2004-09-08    50.525969    51.674514    50.405597    51.308384    4985600.0\n",
      "2004-09-09    51.408694    51.514019    50.656371    51.313400    4061700.0\n",
      "2004-09-10    50.892099    53.444980    50.806836    52.828075    8698800.0\n",
      "2004-09-13    53.480088    54.372844    53.394825    53.916435    7844100.0\n",
      "2004-09-14    53.886342    56.173402    53.560336    55.917612   10828900.0\n",
      "2004-09-15    55.451172    57.291854    55.270615    56.173402   10713000.0\n",
      "2004-09-16    56.343928    58.079285    55.997860    57.161452    9266300.0\n",
      "2004-09-17    57.387149    58.926902    56.950802    58.926902    9472500.0\n",
      "2004-09-20    58.656066    60.988265    58.565787    59.864797   10628700.0\n",
      "2004-09-21    60.286097    60.396438    58.936933    59.102444    7228700.0\n",
      "2004-09-22    58.906840    60.020277    58.585849    59.373280    7581200.0\n",
      "2004-09-23    59.603992    61.504860    58.691174    60.597057    8535600.0\n",
      "2004-09-24    60.672290    62.242136    60.065416    60.100525    9123400.0\n",
      "2004-09-27    59.965107    60.627150    59.082382    59.313094    7066100.0\n",
      "2004-09-28    60.762568    63.897245    60.291113    63.626409   16929000.0\n",
      "2004-09-29    63.460898    67.719042    63.310433    65.742942   30516400.0\n",
      "2004-09-30    65.150614    66.354831    64.699722    65.000651   13758000.0\n",
      "...                 ...          ...          ...          ...          ...\n",
      "2018-02-13  1050.000000  1061.220000  1046.920000  1054.140000    1574121.0\n",
      "2018-02-14  1054.320000  1075.470000  1049.800000  1072.700000    2029979.0\n",
      "2018-02-15  1083.450000  1094.100000  1067.230000  1091.360000    1806206.0\n",
      "2018-02-16  1093.380000  1108.310000  1091.550000  1095.500000    1971928.0\n",
      "2018-02-20  1092.760000  1116.290000  1090.000000  1103.590000    1646405.0\n",
      "2018-02-21  1109.100000  1136.200000  1107.510000  1113.750000    2024534.0\n",
      "2018-02-22  1119.170000  1125.460000  1105.150000  1109.900000    1386115.0\n",
      "2018-02-23  1118.660000  1129.000000  1108.440000  1128.090000    1234539.0\n",
      "2018-02-26  1131.860000  1144.200000  1129.340000  1143.700000    1489118.0\n",
      "2018-02-27  1143.700000  1144.250000  1116.790000  1117.510000    2094863.0\n",
      "2018-02-28  1122.000000  1127.650000  1103.000000  1103.920000    2431023.0\n",
      "2018-03-01  1109.540000  1111.270000  1067.290000  1071.410000    2766856.0\n",
      "2018-03-02  1057.980000  1086.890000  1050.110000  1084.140000    2508145.0\n",
      "2018-03-05  1078.130000  1101.180000  1072.270000  1094.760000    1432369.0\n",
      "2018-03-06  1102.100000  1105.630000  1094.500000  1100.900000    1169068.0\n",
      "2018-03-07  1092.820000  1116.200000  1089.910000  1115.040000    1537429.0\n",
      "2018-03-08  1117.200000  1131.440000  1117.200000  1129.380000    1510478.0\n",
      "2018-03-09  1139.500000  1161.000000  1134.290000  1160.840000    2070174.0\n",
      "2018-03-12  1165.050000  1178.160000  1159.200000  1165.930000    2129297.0\n",
      "2018-03-13  1171.830000  1178.000000  1134.570000  1139.910000    2129435.0\n",
      "2018-03-14  1145.800000  1159.760000  1142.350000  1148.890000    2033697.0\n",
      "2018-03-15  1149.570000  1162.500000  1135.660000  1150.610000    1623868.0\n",
      "2018-03-16  1155.350000  1156.810000  1131.360000  1134.420000    2654602.0\n",
      "2018-03-19  1117.760000  1119.370000  1088.920000  1100.070000    3076349.0\n",
      "2018-03-20  1098.400000  1105.550000  1082.420000  1095.800000    2709310.0\n",
      "2018-03-21  1092.570000  1108.700000  1087.210000  1094.000000    1990515.0\n",
      "2018-03-22  1080.010000  1083.920000  1049.640000  1053.150000    3418154.0\n",
      "2018-03-23  1051.370000  1066.780000  1024.870000  1026.550000    2413517.0\n",
      "2018-03-26  1050.600000  1059.270000  1010.580000  1054.090000    3272409.0\n",
      "2018-03-27  1063.900000  1064.540000   997.620000  1006.940000    2940957.0\n",
      "\n",
      "[3424 rows x 5 columns]\n"
     ]
    }
   ],
   "source": [
    "df = df[['Adj. Open','Adj. High','Adj. Low', 'Adj. Close', 'Adj. Volume']]\n",
    "print(df)"
   ]
  },
  {
   "cell_type": "code",
   "execution_count": 6,
   "metadata": {},
   "outputs": [
    {
     "name": "stdout",
     "output_type": "stream",
     "text": [
      "              Adj. Open    Adj. High     Adj. Low   Adj. Close  Adj. Volume  \\\n",
      "Date                                                                          \n",
      "2004-08-19    50.159839    52.191109    48.128568    50.322842   44659000.0   \n",
      "2004-08-20    50.661387    54.708881    50.405597    54.322689   22834300.0   \n",
      "2004-08-23    55.551482    56.915693    54.693835    54.869377   18256100.0   \n",
      "2004-08-24    55.792225    55.972783    51.945350    52.597363   15247300.0   \n",
      "2004-08-25    52.542193    54.167209    52.100830    53.164113    9188600.0   \n",
      "2004-08-26    52.637487    54.142132    52.492038    54.122070    7094800.0   \n",
      "2004-08-27    54.217364    54.478169    53.008633    53.239345    6211700.0   \n",
      "2004-08-30    52.802998    52.908323    51.162935    51.162935    5196700.0   \n",
      "2004-08-31    51.318415    52.015567    51.238167    51.343492    4917800.0   \n",
      "2004-09-01    51.509003    51.644421    49.989312    50.280210    9138200.0   \n",
      "2004-09-02    49.698414    51.343492    49.623182    50.912161   15118600.0   \n",
      "2004-09-03    50.631294    51.027517    49.813770    50.159839    5152400.0   \n",
      "2004-09-07    50.661387    51.157920    49.959219    50.947269    5847500.0   \n",
      "2004-09-08    50.525969    51.674514    50.405597    51.308384    4985600.0   \n",
      "2004-09-09    51.408694    51.514019    50.656371    51.313400    4061700.0   \n",
      "2004-09-10    50.892099    53.444980    50.806836    52.828075    8698800.0   \n",
      "2004-09-13    53.480088    54.372844    53.394825    53.916435    7844100.0   \n",
      "2004-09-14    53.886342    56.173402    53.560336    55.917612   10828900.0   \n",
      "2004-09-15    55.451172    57.291854    55.270615    56.173402   10713000.0   \n",
      "2004-09-16    56.343928    58.079285    55.997860    57.161452    9266300.0   \n",
      "2004-09-17    57.387149    58.926902    56.950802    58.926902    9472500.0   \n",
      "2004-09-20    58.656066    60.988265    58.565787    59.864797   10628700.0   \n",
      "2004-09-21    60.286097    60.396438    58.936933    59.102444    7228700.0   \n",
      "2004-09-22    58.906840    60.020277    58.585849    59.373280    7581200.0   \n",
      "2004-09-23    59.603992    61.504860    58.691174    60.597057    8535600.0   \n",
      "2004-09-24    60.672290    62.242136    60.065416    60.100525    9123400.0   \n",
      "2004-09-27    59.965107    60.627150    59.082382    59.313094    7066100.0   \n",
      "2004-09-28    60.762568    63.897245    60.291113    63.626409   16929000.0   \n",
      "2004-09-29    63.460898    67.719042    63.310433    65.742942   30516400.0   \n",
      "2004-09-30    65.150614    66.354831    64.699722    65.000651   13758000.0   \n",
      "...                 ...          ...          ...          ...          ...   \n",
      "2018-02-13  1050.000000  1061.220000  1046.920000  1054.140000    1574121.0   \n",
      "2018-02-14  1054.320000  1075.470000  1049.800000  1072.700000    2029979.0   \n",
      "2018-02-15  1083.450000  1094.100000  1067.230000  1091.360000    1806206.0   \n",
      "2018-02-16  1093.380000  1108.310000  1091.550000  1095.500000    1971928.0   \n",
      "2018-02-20  1092.760000  1116.290000  1090.000000  1103.590000    1646405.0   \n",
      "2018-02-21  1109.100000  1136.200000  1107.510000  1113.750000    2024534.0   \n",
      "2018-02-22  1119.170000  1125.460000  1105.150000  1109.900000    1386115.0   \n",
      "2018-02-23  1118.660000  1129.000000  1108.440000  1128.090000    1234539.0   \n",
      "2018-02-26  1131.860000  1144.200000  1129.340000  1143.700000    1489118.0   \n",
      "2018-02-27  1143.700000  1144.250000  1116.790000  1117.510000    2094863.0   \n",
      "2018-02-28  1122.000000  1127.650000  1103.000000  1103.920000    2431023.0   \n",
      "2018-03-01  1109.540000  1111.270000  1067.290000  1071.410000    2766856.0   \n",
      "2018-03-02  1057.980000  1086.890000  1050.110000  1084.140000    2508145.0   \n",
      "2018-03-05  1078.130000  1101.180000  1072.270000  1094.760000    1432369.0   \n",
      "2018-03-06  1102.100000  1105.630000  1094.500000  1100.900000    1169068.0   \n",
      "2018-03-07  1092.820000  1116.200000  1089.910000  1115.040000    1537429.0   \n",
      "2018-03-08  1117.200000  1131.440000  1117.200000  1129.380000    1510478.0   \n",
      "2018-03-09  1139.500000  1161.000000  1134.290000  1160.840000    2070174.0   \n",
      "2018-03-12  1165.050000  1178.160000  1159.200000  1165.930000    2129297.0   \n",
      "2018-03-13  1171.830000  1178.000000  1134.570000  1139.910000    2129435.0   \n",
      "2018-03-14  1145.800000  1159.760000  1142.350000  1148.890000    2033697.0   \n",
      "2018-03-15  1149.570000  1162.500000  1135.660000  1150.610000    1623868.0   \n",
      "2018-03-16  1155.350000  1156.810000  1131.360000  1134.420000    2654602.0   \n",
      "2018-03-19  1117.760000  1119.370000  1088.920000  1100.070000    3076349.0   \n",
      "2018-03-20  1098.400000  1105.550000  1082.420000  1095.800000    2709310.0   \n",
      "2018-03-21  1092.570000  1108.700000  1087.210000  1094.000000    1990515.0   \n",
      "2018-03-22  1080.010000  1083.920000  1049.640000  1053.150000    3418154.0   \n",
      "2018-03-23  1051.370000  1066.780000  1024.870000  1026.550000    2413517.0   \n",
      "2018-03-26  1050.600000  1059.270000  1010.580000  1054.090000    3272409.0   \n",
      "2018-03-27  1063.900000  1064.540000   997.620000  1006.940000    2940957.0   \n",
      "\n",
      "              HL_PCT  PCT_change  \n",
      "Date                              \n",
      "2004-08-19  8.441017    0.324968  \n",
      "2004-08-20  8.537313    7.227007  \n",
      "2004-08-23  4.062357   -1.227880  \n",
      "2004-08-24  7.753210   -5.726357  \n",
      "2004-08-25  3.966115    1.183658  \n",
      "2004-08-26  3.143512    2.820391  \n",
      "2004-08-27  2.772258   -1.803885  \n",
      "2004-08-30  3.411430   -3.106003  \n",
      "2004-08-31  1.517228    0.048866  \n",
      "2004-09-01  3.310926   -2.385589  \n",
      "2004-09-02  3.466748    2.442224  \n",
      "2004-09-03  2.436569   -0.931154  \n",
      "2004-09-07  2.399357    0.564301  \n",
      "2004-09-08  2.517413    1.548541  \n",
      "2004-09-09  1.693069   -0.185366  \n",
      "2004-09-10  5.192498    3.804080  \n",
      "2004-09-13  1.831674    0.815905  \n",
      "2004-09-14  4.878734    3.769546  \n",
      "2004-09-15  3.656987    1.302460  \n",
      "2004-09-16  3.716973    1.450952  \n",
      "2004-09-17  3.469837    2.683097  \n",
      "2004-09-20  4.136336    2.060710  \n",
      "2004-09-21  2.476385   -1.963394  \n",
      "2004-09-22  2.448421    0.791826  \n",
      "2004-09-23  4.794052    1.666106  \n",
      "2004-09-24  3.623914   -0.942382  \n",
      "2004-09-27  2.614601   -1.087320  \n",
      "2004-09-28  5.981200    4.713165  \n",
      "2004-09-29  6.963479    3.595985  \n",
      "2004-09-30  2.558140   -0.230179  \n",
      "...              ...         ...  \n",
      "2018-02-13  1.365911    0.394286  \n",
      "2018-02-14  2.445228    1.743304  \n",
      "2018-02-15  2.517733    0.730075  \n",
      "2018-02-16  1.535431    0.193894  \n",
      "2018-02-20  2.411927    0.991068  \n",
      "2018-02-21  2.590496    0.419259  \n",
      "2018-02-22  1.837760   -0.828292  \n",
      "2018-02-23  1.854859    0.842973  \n",
      "2018-02-26  1.315813    1.046066  \n",
      "2018-02-27  2.458833   -2.289936  \n",
      "2018-02-28  2.234814   -1.611408  \n",
      "2018-03-01  4.120717   -3.436559  \n",
      "2018-03-02  3.502490    2.472637  \n",
      "2018-03-05  2.696149    1.542486  \n",
      "2018-03-06  1.016903   -0.108883  \n",
      "2018-03-07  2.412126    2.033272  \n",
      "2018-03-08  1.274615    1.090226  \n",
      "2018-03-09  2.354777    1.872751  \n",
      "2018-03-12  1.635611    0.075533  \n",
      "2018-03-13  3.827882   -2.723945  \n",
      "2018-03-14  1.524051    0.269681  \n",
      "2018-03-15  2.363383    0.090469  \n",
      "2018-03-16  2.249505   -1.811572  \n",
      "2018-03-19  2.796349   -1.582630  \n",
      "2018-03-20  2.136878   -0.236708  \n",
      "2018-03-21  1.976619    0.130884  \n",
      "2018-03-22  3.265882   -2.487014  \n",
      "2018-03-23  4.089299   -2.360729  \n",
      "2018-03-26  4.818025    0.332191  \n",
      "2018-03-27  6.707965   -5.353887  \n",
      "\n",
      "[3424 rows x 7 columns]\n"
     ]
    }
   ],
   "source": [
    "df['HL_PCT'] = (df['Adj. High'] - df['Adj. Low']) / df['Adj. Low'] * 100.0\n",
    "df['PCT_change'] = (df['Adj. Close'] - df['Adj. Open']) / df['Adj. Open'] * 100.0\n",
    "print(df)"
   ]
  },
  {
   "cell_type": "code",
   "execution_count": 7,
   "metadata": {},
   "outputs": [
    {
     "name": "stdout",
     "output_type": "stream",
     "text": [
      "            Adj. Close    HL_PCT  PCT_change  Adj. Volume\n",
      "Date                                                     \n",
      "2004-08-19   50.322842  8.441017    0.324968   44659000.0\n",
      "2004-08-20   54.322689  8.537313    7.227007   22834300.0\n",
      "2004-08-23   54.869377  4.062357   -1.227880   18256100.0\n",
      "2004-08-24   52.597363  7.753210   -5.726357   15247300.0\n",
      "2004-08-25   53.164113  3.966115    1.183658    9188600.0\n"
     ]
    }
   ],
   "source": [
    "df = df[['Adj. Close','HL_PCT','PCT_change','Adj. Volume']]\n",
    "print(df.head())"
   ]
  },
  {
   "cell_type": "code",
   "execution_count": 8,
   "metadata": {},
   "outputs": [
    {
     "name": "stdout",
     "output_type": "stream",
     "text": [
      "            Adj. Close    HL_PCT  PCT_change  Adj. Volume  Label\n",
      "Date                                                            \n",
      "2018-03-21     1094.00  1.976619    0.130884    1990515.0    NaN\n",
      "2018-03-22     1053.15  3.265882   -2.487014    3418154.0    NaN\n",
      "2018-03-23     1026.55  4.089299   -2.360729    2413517.0    NaN\n",
      "2018-03-26     1054.09  4.818025    0.332191    3272409.0    NaN\n",
      "2018-03-27     1006.94  6.707965   -5.353887    2940957.0    NaN\n"
     ]
    }
   ],
   "source": [
    "forecast_col = 'Adj. Close'\n",
    "df.fillna(-9999, inplace=True)\n",
    "forecast_out = int(math.ceil(0.01*len(df)))\n",
    "# print(forecast_out)\n",
    "df['Label'] = df[forecast_col].shift(-forecast_out)\n",
    "print(df.tail(5))"
   ]
  },
  {
   "cell_type": "code",
   "execution_count": 9,
   "metadata": {},
   "outputs": [
    {
     "name": "stdout",
     "output_type": "stream",
     "text": [
      "            Adj. Close    HL_PCT  PCT_change  Adj. Volume    Label\n",
      "Date                                                              \n",
      "2018-01-30     1177.37  1.142604   -0.029718    1792602.0  1094.00\n",
      "2018-01-31     1182.22  1.213207   -0.134312    1643877.0  1053.15\n",
      "2018-02-01     1181.59  1.547000    0.476195    2774967.0  1026.55\n",
      "2018-02-02     1119.20  1.811604   -0.729098    5798880.0  1054.09\n",
      "2018-02-05     1068.76  5.512236   -2.893850    3742469.0  1006.94\n"
     ]
    }
   ],
   "source": [
    "# x = np.array(df.drop(['Label'],1))\n",
    "# y = np.array(df['Label'])\n",
    "# x = preprocessing.scale(x)\n",
    "# df.dropna(inplace=True)\n",
    "# y = np.array(df['Label'])\n",
    "x = np.array(df.drop(['Label'], 1))\n",
    "x = preprocessing.scale(x)\n",
    "x_recent = x[-forecast_out:]\n",
    "x = x[:-forecast_out]\n",
    "df.dropna(inplace=True)\n",
    "y = np.array(df['Label'])\n",
    "print(df.tail(5))"
   ]
  },
  {
   "cell_type": "code",
   "execution_count": null,
   "metadata": {},
   "outputs": [],
   "source": []
  },
  {
   "cell_type": "code",
   "execution_count": 10,
   "metadata": {},
   "outputs": [
    {
     "name": "stdout",
     "output_type": "stream",
     "text": [
      "0.9764108336218535\n"
     ]
    }
   ],
   "source": [
    "x_train, x_test, y_train, y_test  = cross_validation.train_test_split(x, y, test_size=0.2)\n",
    "clf = LinearRegression(n_jobs=-1)\n",
    "clf.fit(x_train,y_train)\n",
    "accuracy = clf.score(x_test,y_test)\n",
    "print(accuracy)"
   ]
  },
  {
   "cell_type": "code",
   "execution_count": 11,
   "metadata": {},
   "outputs": [
    {
     "name": "stdout",
     "output_type": "stream",
     "text": [
      "[259.83109908  -2.0166767    0.73356971  -2.59105684] 419.37648092312094\n"
     ]
    }
   ],
   "source": [
    "forecast_set = clf.predict(x_recent)\n",
    "slope = clf.coef_\n",
    "intercept = clf.intercept_\n",
    "print(slope,intercept)"
   ]
  },
  {
   "cell_type": "code",
   "execution_count": 12,
   "metadata": {},
   "outputs": [],
   "source": [
    "import datetime\n",
    "import matplotlib.pyplot as plpt\n",
    "from matplotlib import style"
   ]
  },
  {
   "cell_type": "code",
   "execution_count": 13,
   "metadata": {},
   "outputs": [
    {
     "data": {
      "text/plain": [
       "Adj. Close     1.068760e+03\n",
       "HL_PCT         5.512236e+00\n",
       "PCT_change    -2.893850e+00\n",
       "Adj. Volume    3.742469e+06\n",
       "Label          1.006940e+03\n",
       "Name: 2018-02-05 00:00:00, dtype: float64"
      ]
     },
     "execution_count": 13,
     "metadata": {},
     "output_type": "execute_result"
    }
   ],
   "source": [
    "df.iloc[-1]"
   ]
  },
  {
   "cell_type": "code",
   "execution_count": 14,
   "metadata": {},
   "outputs": [],
   "source": [
    "style.use('ggplot')\n",
    "df['Forecast'] = np.nan\n",
    "\n",
    "last_date = df.iloc[-1].name\n",
    "last_unix = last_date.timestamp()\n",
    "one_day = 86400\n",
    "next_unix = last_unix + one_day\n",
    "\n",
    "for i in forecast_set:\n",
    "    next_date = datetime.datetime.fromtimestamp(next_unix)\n",
    "    next_unix += 86400\n",
    "    df.loc[next_date] = [np.nan for _ in range(len(df.columns)-1)]+[i]\n",
    "\n"
   ]
  },
  {
   "cell_type": "code",
   "execution_count": 15,
   "metadata": {},
   "outputs": [
    {
     "data": {
      "image/png": "[encoded data removed]",
      "text/plain": [
       "<Figure size 432x288 with 1 Axes>"
      ]
     },
     "metadata": {},
     "output_type": "display_data"
    }
   ],
   "source": [
    "df['Adj. Close'].plot()\n",
    "df['Forecast'].plot()\n",
    "plpt.legend(loc = 4)\n",
    "plpt.xlabel('Date')\n",
    "plpt.ylabel('Price')\n",
    "plpt.show()"
   ]
  }
 ],
 "metadata": {
  "kernelspec": {
   "display_name": "Python 3",
   "language": "python",
   "name": "python3"
  },
  "language_info": {
   "codemirror_mode": {
    "name": "ipython",
    "version": 3
   },
   "file_extension": ".py",
   "mimetype": "text/x-python",
   "name": "python",
   "nbconvert_exporter": "python",
   "pygments_lexer": "ipython3",
   "version": "3.6.5"
  }
 },
 "nbformat": 4,
 "nbformat_minor": 2
}
