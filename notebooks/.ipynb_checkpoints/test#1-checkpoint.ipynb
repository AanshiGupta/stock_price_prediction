{
 "cells": [
  {
   "cell_type": "code",
   "execution_count": 6,
   "metadata": {},
   "outputs": [],
   "source": [
    "import pandas as pd\n",
    "import numpy as np\n",
    "import quandl"
   ]
  },
  {
   "cell_type": "code",
   "execution_count": 84,
   "metadata": {},
   "outputs": [],
   "source": [
    "dfOriginal = pd.read_csv(\"/home/anupam/stockPrediction/data/^BSESN (2).csv\")"
   ]
  },
  {
   "cell_type": "code",
   "execution_count": 86,
   "metadata": {},
   "outputs": [
    {
     "data": {
      "text/html": [
       "<div>\n",
       "<style scoped>\n",
       "    .dataframe tbody tr th:only-of-type {\n",
       "        vertical-align: middle;\n",
       "    }\n",
       "\n",
       "    .dataframe tbody tr th {\n",
       "        vertical-align: top;\n",
       "    }\n",
       "\n",
       "    .dataframe thead th {\n",
       "        text-align: right;\n",
       "    }\n",
       "</style>\n",
       "<table border=\"1\" class=\"dataframe\">\n",
       "  <thead>\n",
       "    <tr style=\"text-align: right;\">\n",
       "      <th></th>\n",
       "      <th>Date</th>\n",
       "      <th>Open</th>\n",
       "      <th>High</th>\n",
       "      <th>Low</th>\n",
       "      <th>Close</th>\n",
       "      <th>Adj Close</th>\n",
       "      <th>Volume</th>\n",
       "    </tr>\n",
       "  </thead>\n",
       "  <tbody>\n",
       "    <tr>\n",
       "      <th>0</th>\n",
       "      <td>2016-06-29</td>\n",
       "      <td>26627.150391</td>\n",
       "      <td>26776.169922</td>\n",
       "      <td>26606.310547</td>\n",
       "      <td>26740.390625</td>\n",
       "      <td>26740.390625</td>\n",
       "      <td>7700</td>\n",
       "    </tr>\n",
       "    <tr>\n",
       "      <th>1</th>\n",
       "      <td>2016-06-30</td>\n",
       "      <td>26926.169922</td>\n",
       "      <td>27069.230469</td>\n",
       "      <td>26872.589844</td>\n",
       "      <td>26999.720703</td>\n",
       "      <td>26999.720703</td>\n",
       "      <td>8600</td>\n",
       "    </tr>\n",
       "    <tr>\n",
       "      <th>2</th>\n",
       "      <td>2016-07-01</td>\n",
       "      <td>27064.330078</td>\n",
       "      <td>27243.359375</td>\n",
       "      <td>27061.400391</td>\n",
       "      <td>27144.910156</td>\n",
       "      <td>27144.910156</td>\n",
       "      <td>10000</td>\n",
       "    </tr>\n",
       "    <tr>\n",
       "      <th>3</th>\n",
       "      <td>2016-07-04</td>\n",
       "      <td>27314.439453</td>\n",
       "      <td>27385.660156</td>\n",
       "      <td>27251.060547</td>\n",
       "      <td>27278.759766</td>\n",
       "      <td>27278.759766</td>\n",
       "      <td>8300</td>\n",
       "    </tr>\n",
       "    <tr>\n",
       "      <th>4</th>\n",
       "      <td>2016-07-05</td>\n",
       "      <td>27340.720703</td>\n",
       "      <td>27348.660156</td>\n",
       "      <td>27127.300781</td>\n",
       "      <td>27166.869141</td>\n",
       "      <td>27166.869141</td>\n",
       "      <td>10400</td>\n",
       "    </tr>\n",
       "  </tbody>\n",
       "</table>\n",
       "</div>"
      ],
      "text/plain": [
       "         Date          Open          High           Low         Close  \\\n",
       "0  2016-06-29  26627.150391  26776.169922  26606.310547  26740.390625   \n",
       "1  2016-06-30  26926.169922  27069.230469  26872.589844  26999.720703   \n",
       "2  2016-07-01  27064.330078  27243.359375  27061.400391  27144.910156   \n",
       "3  2016-07-04  27314.439453  27385.660156  27251.060547  27278.759766   \n",
       "4  2016-07-05  27340.720703  27348.660156  27127.300781  27166.869141   \n",
       "\n",
       "      Adj Close  Volume  \n",
       "0  26740.390625    7700  \n",
       "1  26999.720703    8600  \n",
       "2  27144.910156   10000  \n",
       "3  27278.759766    8300  \n",
       "4  27166.869141   10400  "
      ]
     },
     "execution_count": 86,
     "metadata": {},
     "output_type": "execute_result"
    }
   ],
   "source": [
    "dfOriginal.head()"
   ]
  },
  {
   "cell_type": "code",
   "execution_count": 87,
   "metadata": {},
   "outputs": [],
   "source": [
    "df = dfOriginal.set_index(\"Date\")"
   ]
  },
  {
   "cell_type": "code",
   "execution_count": 88,
   "metadata": {},
   "outputs": [],
   "source": [
    "df = df.drop(['Close'],axis=1)"
   ]
  },
  {
   "cell_type": "code",
   "execution_count": 89,
   "metadata": {},
   "outputs": [
    {
     "data": {
      "text/html": [
       "<div>\n",
       "<style scoped>\n",
       "    .dataframe tbody tr th:only-of-type {\n",
       "        vertical-align: middle;\n",
       "    }\n",
       "\n",
       "    .dataframe tbody tr th {\n",
       "        vertical-align: top;\n",
       "    }\n",
       "\n",
       "    .dataframe thead th {\n",
       "        text-align: right;\n",
       "    }\n",
       "</style>\n",
       "<table border=\"1\" class=\"dataframe\">\n",
       "  <thead>\n",
       "    <tr style=\"text-align: right;\">\n",
       "      <th></th>\n",
       "      <th>Open</th>\n",
       "      <th>High</th>\n",
       "      <th>Low</th>\n",
       "      <th>Adj Close</th>\n",
       "      <th>Volume</th>\n",
       "    </tr>\n",
       "    <tr>\n",
       "      <th>Date</th>\n",
       "      <th></th>\n",
       "      <th></th>\n",
       "      <th></th>\n",
       "      <th></th>\n",
       "      <th></th>\n",
       "    </tr>\n",
       "  </thead>\n",
       "  <tbody>\n",
       "    <tr>\n",
       "      <th>2016-06-29</th>\n",
       "      <td>26627.150391</td>\n",
       "      <td>26776.169922</td>\n",
       "      <td>26606.310547</td>\n",
       "      <td>26740.390625</td>\n",
       "      <td>7700</td>\n",
       "    </tr>\n",
       "    <tr>\n",
       "      <th>2016-06-30</th>\n",
       "      <td>26926.169922</td>\n",
       "      <td>27069.230469</td>\n",
       "      <td>26872.589844</td>\n",
       "      <td>26999.720703</td>\n",
       "      <td>8600</td>\n",
       "    </tr>\n",
       "    <tr>\n",
       "      <th>2016-07-01</th>\n",
       "      <td>27064.330078</td>\n",
       "      <td>27243.359375</td>\n",
       "      <td>27061.400391</td>\n",
       "      <td>27144.910156</td>\n",
       "      <td>10000</td>\n",
       "    </tr>\n",
       "    <tr>\n",
       "      <th>2016-07-04</th>\n",
       "      <td>27314.439453</td>\n",
       "      <td>27385.660156</td>\n",
       "      <td>27251.060547</td>\n",
       "      <td>27278.759766</td>\n",
       "      <td>8300</td>\n",
       "    </tr>\n",
       "    <tr>\n",
       "      <th>2016-07-05</th>\n",
       "      <td>27340.720703</td>\n",
       "      <td>27348.660156</td>\n",
       "      <td>27127.300781</td>\n",
       "      <td>27166.869141</td>\n",
       "      <td>10400</td>\n",
       "    </tr>\n",
       "  </tbody>\n",
       "</table>\n",
       "</div>"
      ],
      "text/plain": [
       "                    Open          High           Low     Adj Close  Volume\n",
       "Date                                                                      \n",
       "2016-06-29  26627.150391  26776.169922  26606.310547  26740.390625    7700\n",
       "2016-06-30  26926.169922  27069.230469  26872.589844  26999.720703    8600\n",
       "2016-07-01  27064.330078  27243.359375  27061.400391  27144.910156   10000\n",
       "2016-07-04  27314.439453  27385.660156  27251.060547  27278.759766    8300\n",
       "2016-07-05  27340.720703  27348.660156  27127.300781  27166.869141   10400"
      ]
     },
     "execution_count": 89,
     "metadata": {},
     "output_type": "execute_result"
    }
   ],
   "source": [
    "df.head()"
   ]
  },
  {
   "cell_type": "code",
   "execution_count": 90,
   "metadata": {},
   "outputs": [],
   "source": [
    "SMA5 = df['Adj Close'].rolling(window=5).mean()\n",
    "SMA10 = df['Adj Close'].rolling(window=10).mean()\n",
    "SMA20 = df['Adj Close'].rolling(window=20).mean()"
   ]
  },
  {
   "cell_type": "code",
   "execution_count": 91,
   "metadata": {
    "collapsed": true
   },
   "outputs": [
    {
     "data": {
      "text/plain": [
       "Date\n",
       "2016-06-29             NaN\n",
       "2016-06-30             NaN\n",
       "2016-07-01             NaN\n",
       "2016-07-04             NaN\n",
       "2016-07-05    27066.130078\n",
       "2016-07-07    27158.350000\n",
       "2016-07-08    27183.785938\n",
       "2016-07-11    27280.141797\n",
       "2016-07-12    27386.017969\n",
       "2016-07-13    27515.680078\n",
       "2016-07-14    27663.803906\n",
       "2016-07-15    27805.723828\n",
       "2016-07-18    27829.717969\n",
       "2016-07-19    27825.613672\n",
       "2016-07-20    27845.755859\n",
       "2016-07-21    27799.437891\n",
       "2016-07-22    27792.785937\n",
       "2016-07-25    27862.521875\n",
       "2016-07-26    27900.301953\n",
       "2016-07-27    27921.989844\n",
       "2016-07-28    28021.609766\n",
       "2016-07-29    28071.333594\n",
       "2016-08-01    28052.889453\n",
       "2016-08-02    28053.927735\n",
       "2016-08-03    27988.563672\n",
       "2016-08-04    27889.713672\n",
       "2016-08-05    27895.011719\n",
       "2016-08-08    27930.901953\n",
       "2016-08-09    27951.591797\n",
       "2016-08-10    27967.066016\n",
       "                  ...     \n",
       "2018-05-18    35297.190625\n",
       "2018-05-21    35109.074219\n",
       "2018-05-22    34930.533594\n",
       "2018-05-23    34721.939844\n",
       "2018-05-24    34624.737500\n",
       "2018-05-25    34640.051562\n",
       "2018-05-28    34749.921875\n",
       "2018-05-29    34809.521875\n",
       "2018-05-30    34921.761719\n",
       "2018-05-31    35053.615625\n",
       "2018-06-01    35114.093750\n",
       "2018-06-04    35083.375781\n",
       "2018-06-05    35074.170313\n",
       "2018-06-06    35128.724219\n",
       "2018-06-07    35156.864063\n",
       "2018-06-08    35200.146094\n",
       "2018-06-11    35294.461719\n",
       "2018-06-12    35452.323437\n",
       "2018-06-13    35564.379687\n",
       "2018-06-14    35591.728125\n",
       "2018-06-15    35627.421875\n",
       "2018-06-18    35640.380469\n",
       "2018-06-19    35559.224219\n",
       "2018-06-20    35520.857813\n",
       "2018-06-21    35487.371875\n",
       "2018-06-22    35500.864063\n",
       "2018-06-25    35485.282031\n",
       "2018-06-26    35525.942188\n",
       "2018-06-27    35459.898438\n",
       "2018-06-28    35380.948438\n",
       "Name: Adj Close, Length: 496, dtype: float64"
      ]
     },
     "execution_count": 91,
     "metadata": {},
     "output_type": "execute_result"
    }
   ],
   "source": [
    "SMA5"
   ]
  },
  {
   "cell_type": "code",
   "execution_count": 92,
   "metadata": {},
   "outputs": [],
   "source": [
    "result = pd.concat([df,SMA5,SMA10,SMA20],axis=1,sort=False)"
   ]
  },
  {
   "cell_type": "code",
   "execution_count": 93,
   "metadata": {},
   "outputs": [],
   "source": [
    "result.columns.values[5] = 'SMA5'\n",
    "result.columns.values[6] = 'SMA10'\n",
    "result.columns.values[7] = 'SMA20'"
   ]
  },
  {
   "cell_type": "code",
   "execution_count": 95,
   "metadata": {
    "scrolled": true
   },
   "outputs": [
    {
     "data": {
      "text/html": [
       "<div>\n",
       "<style scoped>\n",
       "    .dataframe tbody tr th:only-of-type {\n",
       "        vertical-align: middle;\n",
       "    }\n",
       "\n",
       "    .dataframe tbody tr th {\n",
       "        vertical-align: top;\n",
       "    }\n",
       "\n",
       "    .dataframe thead th {\n",
       "        text-align: right;\n",
       "    }\n",
       "</style>\n",
       "<table border=\"1\" class=\"dataframe\">\n",
       "  <thead>\n",
       "    <tr style=\"text-align: right;\">\n",
       "      <th></th>\n",
       "      <th>Open</th>\n",
       "      <th>High</th>\n",
       "      <th>Low</th>\n",
       "      <th>Adj Close</th>\n",
       "      <th>Volume</th>\n",
       "      <th>SMA5</th>\n",
       "      <th>SMA10</th>\n",
       "      <th>SMA20</th>\n",
       "    </tr>\n",
       "    <tr>\n",
       "      <th>Date</th>\n",
       "      <th></th>\n",
       "      <th></th>\n",
       "      <th></th>\n",
       "      <th></th>\n",
       "      <th></th>\n",
       "      <th></th>\n",
       "      <th></th>\n",
       "      <th></th>\n",
       "    </tr>\n",
       "  </thead>\n",
       "  <tbody>\n",
       "    <tr>\n",
       "      <th>2016-06-29</th>\n",
       "      <td>26627.150391</td>\n",
       "      <td>26776.169922</td>\n",
       "      <td>26606.310547</td>\n",
       "      <td>26740.390625</td>\n",
       "      <td>7700</td>\n",
       "      <td>NaN</td>\n",
       "      <td>NaN</td>\n",
       "      <td>NaN</td>\n",
       "    </tr>\n",
       "    <tr>\n",
       "      <th>2016-06-30</th>\n",
       "      <td>26926.169922</td>\n",
       "      <td>27069.230469</td>\n",
       "      <td>26872.589844</td>\n",
       "      <td>26999.720703</td>\n",
       "      <td>8600</td>\n",
       "      <td>NaN</td>\n",
       "      <td>NaN</td>\n",
       "      <td>NaN</td>\n",
       "    </tr>\n",
       "    <tr>\n",
       "      <th>2016-07-01</th>\n",
       "      <td>27064.330078</td>\n",
       "      <td>27243.359375</td>\n",
       "      <td>27061.400391</td>\n",
       "      <td>27144.910156</td>\n",
       "      <td>10000</td>\n",
       "      <td>NaN</td>\n",
       "      <td>NaN</td>\n",
       "      <td>NaN</td>\n",
       "    </tr>\n",
       "    <tr>\n",
       "      <th>2016-07-04</th>\n",
       "      <td>27314.439453</td>\n",
       "      <td>27385.660156</td>\n",
       "      <td>27251.060547</td>\n",
       "      <td>27278.759766</td>\n",
       "      <td>8300</td>\n",
       "      <td>NaN</td>\n",
       "      <td>NaN</td>\n",
       "      <td>NaN</td>\n",
       "    </tr>\n",
       "    <tr>\n",
       "      <th>2016-07-05</th>\n",
       "      <td>27340.720703</td>\n",
       "      <td>27348.660156</td>\n",
       "      <td>27127.300781</td>\n",
       "      <td>27166.869141</td>\n",
       "      <td>10400</td>\n",
       "      <td>27066.130078</td>\n",
       "      <td>NaN</td>\n",
       "      <td>NaN</td>\n",
       "    </tr>\n",
       "  </tbody>\n",
       "</table>\n",
       "</div>"
      ],
      "text/plain": [
       "                    Open          High           Low     Adj Close  Volume  \\\n",
       "Date                                                                         \n",
       "2016-06-29  26627.150391  26776.169922  26606.310547  26740.390625    7700   \n",
       "2016-06-30  26926.169922  27069.230469  26872.589844  26999.720703    8600   \n",
       "2016-07-01  27064.330078  27243.359375  27061.400391  27144.910156   10000   \n",
       "2016-07-04  27314.439453  27385.660156  27251.060547  27278.759766    8300   \n",
       "2016-07-05  27340.720703  27348.660156  27127.300781  27166.869141   10400   \n",
       "\n",
       "                    SMA5  SMA10  SMA20  \n",
       "Date                                    \n",
       "2016-06-29           NaN    NaN    NaN  \n",
       "2016-06-30           NaN    NaN    NaN  \n",
       "2016-07-01           NaN    NaN    NaN  \n",
       "2016-07-04           NaN    NaN    NaN  \n",
       "2016-07-05  27066.130078    NaN    NaN  "
      ]
     },
     "execution_count": 95,
     "metadata": {},
     "output_type": "execute_result"
    }
   ],
   "source": [
    "result.head(5)"
   ]
  },
  {
   "cell_type": "code",
   "execution_count": 99,
   "metadata": {},
   "outputs": [
    {
     "data": {
      "text/plain": [
       "27243.359375"
      ]
     },
     "execution_count": 99,
     "metadata": {},
     "output_type": "execute_result"
    }
   ],
   "source": [
    "result['High'][2]"
   ]
  },
  {
   "cell_type": "code",
   "execution_count": null,
   "metadata": {},
   "outputs": [],
   "source": [
    "def EMAN(data,n):\n",
    "    n=n-1\n",
    "    initialSMA = "
   ]
  }
 ],
 "metadata": {
  "kernelspec": {
   "display_name": "Python 3",
   "language": "python",
   "name": "python3"
  },
  "language_info": {
   "codemirror_mode": {
    "name": "ipython",
    "version": 3
   },
   "file_extension": ".py",
   "mimetype": "text/x-python",
   "name": "python",
   "nbconvert_exporter": "python",
   "pygments_lexer": "ipython3",
   "version": "3.6.5"
  }
 },
 "nbformat": 4,
 "nbformat_minor": 2
}
